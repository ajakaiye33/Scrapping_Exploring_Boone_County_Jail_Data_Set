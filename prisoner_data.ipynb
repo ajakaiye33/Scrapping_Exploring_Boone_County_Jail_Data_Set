{
 "cells": [
  {
   "cell_type": "markdown",
   "metadata": {},
   "source": [
    "##  Exploring the data set of Current Detainees In Boone County Jail\n",
    "We are going to explore the data set of the set of detainees that are in the Boone County Jail. This data set was scrap from the Boone county Mo [website](https://report.boonecountymo.org/mrcjava/servlet/SH01_MP.I00290s). And the head consist of the following\n",
    "* Last Name\n",
    "* First Name\n",
    "* Middle Name\n",
    "* Sex\n",
    "* Race \"W\" is for whites while \"B\" is Black\n",
    "* Age\n",
    "* City\n",
    "* State\n"
   ]
  },
  {
   "cell_type": "markdown",
   "metadata": {},
   "source": [
    "## Questions we seek to ask and answer in this excercise\n",
    "What is the distribution of Detainees in the Boone County Jail, using the following criteria:\n",
    "* Age\n",
    "* Sex\n",
    "* Race and \n",
    "* City"
   ]
  },
  {
   "cell_type": "markdown",
   "metadata": {},
   "source": [
    "## Import Necessary Modules and load the Data set"
   ]
  },
  {
   "cell_type": "code",
   "execution_count": 29,
   "metadata": {},
   "outputs": [
    {
     "data": {
      "text/plain": [
       "[['Last', 'First', 'Middle', 'Gender', 'Race', 'Age', 'City', 'State'],\n",
       " ['AKERS',\n",
       "  'SYDNEY',\n",
       "  'RAE',\n",
       "  'F',\n",
       "  'W',\n",
       "  '21',\n",
       "  'COLUMBIA',\n",
       "  'MO',\n",
       "  '\\n\\xa0Details\\n'],\n",
       " ['AL-AQUIL',\n",
       "  'MOHAMMED',\n",
       "  'NASSER',\n",
       "  'M',\n",
       "  'U',\n",
       "  '27',\n",
       "  'ST. LOUIS',\n",
       "  'MO',\n",
       "  '\\n\\xa0Details\\n']]"
      ]
     },
     "execution_count": 29,
     "metadata": {},
     "output_type": "execute_result"
    }
   ],
   "source": [
    "import csv\n",
    "\n",
    "#read the data\n",
    "\n",
    "f = open(\"crime_data.csv\", \"r\")\n",
    "read_data = list(csv.reader(f))\n",
    "read_data[0:3]\n",
    "\n"
   ]
  },
  {
   "cell_type": "markdown",
   "metadata": {},
   "source": [
    "## Remove head info of the data"
   ]
  },
  {
   "cell_type": "code",
   "execution_count": 3,
   "metadata": {},
   "outputs": [],
   "source": [
    "data = read_data[1:]\n"
   ]
  },
  {
   "cell_type": "markdown",
   "metadata": {},
   "source": [
    "## Determine the number of Males and Female Detainees\n",
    "This is counting the number of detainees according to gender"
   ]
  },
  {
   "cell_type": "code",
   "execution_count": 28,
   "metadata": {},
   "outputs": [
    {
     "data": {
      "text/plain": [
       "{'F': 9, 'M': 40}"
      ]
     },
     "execution_count": 28,
     "metadata": {},
     "output_type": "execute_result"
    }
   ],
   "source": [
    "gender_counts = {}\n",
    "try:\n",
    "    for row in data:\n",
    "        gender = row[3]\n",
    "        if gender in gender_counts:\n",
    "            gender_counts[gender] += 1\n",
    "        else:\n",
    "            gender_counts[gender] = 1\n",
    "except Exception as e:\n",
    "    gender_counts\n",
    "gender_counts\n",
    "\n",
    "        "
   ]
  },
  {
   "cell_type": "markdown",
   "metadata": {},
   "source": [
    "## Determine the race of detainees\n",
    "This is essentially counting the number of detainees along racial lines"
   ]
  },
  {
   "cell_type": "code",
   "execution_count": 27,
   "metadata": {},
   "outputs": [
    {
     "data": {
      "text/plain": [
       "{'W': 27, 'U': 1, 'B': 21}"
      ]
     },
     "execution_count": 27,
     "metadata": {},
     "output_type": "execute_result"
    }
   ],
   "source": [
    "race_counts =  {}\n",
    "try:\n",
    "    for rows in data:\n",
    "        race = rows[4]\n",
    "        if race in race_counts:\n",
    "            race_counts[race] += 1\n",
    "        else:\n",
    "            race_counts[race] = 1\n",
    "except Exception as e:\n",
    "    race_counts\n",
    "race_counts\n",
    "    "
   ]
  },
  {
   "cell_type": "markdown",
   "metadata": {},
   "source": [
    "## Cities of detainees\n",
    "This is the distribution of the cities of detainees"
   ]
  },
  {
   "cell_type": "code",
   "execution_count": 26,
   "metadata": {},
   "outputs": [
    {
     "data": {
      "text/plain": [
       "{'COLUMBIA': 32,\n",
       " 'ST. LOUIS': 2,\n",
       " 'THOMPSON': 1,\n",
       " 'PRAIRIE HOME': 1,\n",
       " 'SPRINGFIELD': 2,\n",
       " 'STURGEON': 1,\n",
       " 'ASHLAND': 1,\n",
       " 'FLORISSANT': 1,\n",
       " 'JEFFERSON CITY': 2,\n",
       " 'MEXICO': 1,\n",
       " 'ROCHEPORT': 1,\n",
       " 'HALLSVILLE': 1,\n",
       " 'KANSAS CITY': 2,\n",
       " 'MOBERLY': 1}"
      ]
     },
     "execution_count": 26,
     "metadata": {},
     "output_type": "execute_result"
    }
   ],
   "source": [
    "city_counts = {}\n",
    "try:\n",
    "    for row in data:\n",
    "        city = row[6]\n",
    "        if city in city_counts:\n",
    "            city_counts[city] += 1\n",
    "        else:\n",
    "            city_counts[city] = 1\n",
    "except Exception as e:\n",
    "    city_counts\n",
    "city_counts\n"
   ]
  },
  {
   "cell_type": "markdown",
   "metadata": {},
   "source": [
    "## Revelation according to the detainees data set\n",
    "In the course of exploring this data set the following has been revealed:\n",
    "* There are more males in Boone County Jail than women\n",
    "* There are more white detainees in Boone County Jail than blacks. However the difference is not significant\n",
    "* Majority of detainees in  Boone County Jail are from Columbia city"
   ]
  },
  {
   "cell_type": "markdown",
   "metadata": {},
   "source": [
    "## Further revelation that can be gleen from the data set\n",
    "We can subject the data set to further analysis to understand:\n",
    "* The gender and city of the youngest detainee in Boone county Jail\n",
    "*  Name of Detainee below 18 years  \n",
    "* The average age of detainees in Boone County Jail"
   ]
  },
  {
   "cell_type": "markdown",
   "metadata": {},
   "source": [
    "## Name and City of Detainee below 18 years in Boone County Jail"
   ]
  },
  {
   "cell_type": "code",
   "execution_count": 31,
   "metadata": {},
   "outputs": [
    {
     "data": {
      "text/plain": [
       "'Mr. BANKS HAROLD from COLUMBIA City who is 17 years old is the youngest inmate in Boone County Jail'"
      ]
     },
     "execution_count": 31,
     "metadata": {},
     "output_type": "execute_result"
    }
   ],
   "source": [
    "name = ''\n",
    "name2 = ''\n",
    "city_of_youngest = ''\n",
    "youngest_age = 0\n",
    "try:\n",
    "    for row in data:\n",
    "        city_young = row[6]\n",
    "        first_name = row[0]\n",
    "        last_name = row[1]\n",
    "        young_age = int(row[5])\n",
    "        if young_age < 18:\n",
    "            name += first_name\n",
    "            name2 += last_name\n",
    "            youngest_age += young_age\n",
    "            \n",
    "            city_of_youngest += city_young\n",
    "except Exception as e:\n",
    "    youngest_detainee = f\"Mr. {name} {name2} from {city_of_youngest} City who is {youngest_age} years old is the youngest inmate in Boone County Jail\"\n",
    "youngest_detainee\n",
    "\n",
    "    \n",
    "        "
   ]
  },
  {
   "cell_type": "markdown",
   "metadata": {},
   "source": [
    "## Name, city and age of oldest detainee in Boone County Jail"
   ]
  },
  {
   "cell_type": "code",
   "execution_count": 22,
   "metadata": {},
   "outputs": [
    {
     "data": {
      "text/plain": [
       "'Mr. BUSH CARL, from COLUMBIA who is 59 years old is the oldest inmate in Boone County Jail in the State of Mousourri'"
      ]
     },
     "execution_count": 22,
     "metadata": {},
     "output_type": "execute_result"
    }
   ],
   "source": [
    "f_name = ''\n",
    "l_name = ''\n",
    "city_of_oldest = ''\n",
    "age_oldest = 0\n",
    "try:\n",
    "    for row in data:\n",
    "        oldest_age = int(row[5])\n",
    "        oldest_city = row[6]\n",
    "        o_f_name = row[0]\n",
    "        o_l_name = row[1]\n",
    "        if oldest_age > 56:\n",
    "            age_oldest += oldest_age\n",
    "            f_name += o_f_name\n",
    "            l_name += o_l_name\n",
    "            city_of_oldest += oldest_city\n",
    "except Exception as e:\n",
    "    oldest_detainee = f'Mr. {f_name} {l_name}, from {city_of_oldest} who is {age_oldest} years old is the oldest inmate in Boone County Jail in the State of Mousourri'\n",
    "oldest_detainee\n",
    "        \n",
    "    "
   ]
  },
  {
   "cell_type": "markdown",
   "metadata": {},
   "source": [
    "## The average age of detainees in Boone County Jail\n",
    "Average in statistical parlance is known as the mean of the distribution which is calculated by dividing the sum of the ages by the number of inmates"
   ]
  },
  {
   "cell_type": "code",
   "execution_count": 21,
   "metadata": {},
   "outputs": [
    {
     "name": "stdout",
     "output_type": "stream",
     "text": [
      "32.93877551020408\n"
     ]
    }
   ],
   "source": [
    "def list_ages_inmates():\n",
    "    \"\"\"\n",
    "    Extract the ages of inmates at Boone County, turn them into\n",
    "    integers and return same for further computation\n",
    "    \"\"\"\n",
    "    ages_of_detainees = []\n",
    "    try:\n",
    "        for rows in data:\n",
    "            ages = int(rows[5])\n",
    "            ages_of_detainees.append(ages)\n",
    "    except Exception as e:\n",
    "        return ages_of_detainees\n",
    "ages_list = list_ages_inmates()\n",
    "# print(ages_list)\n",
    "\n",
    "def median_age_inmates(list_ages):\n",
    "    \"\"\"\n",
    "    sum the ages of the inmates and divid same by the number of inmates\n",
    "    \"\"\"\n",
    "    average_age = sum(list_ages)/len(list_ages)\n",
    "    return average_age\n",
    "print(median_age_inmates(ages_list))\n",
    "\n",
    "        "
   ]
  },
  {
   "cell_type": "code",
   "execution_count": null,
   "metadata": {},
   "outputs": [],
   "source": []
  }
 ],
 "metadata": {
  "kernelspec": {
   "display_name": "Python 3",
   "language": "python",
   "name": "python3"
  },
  "language_info": {
   "codemirror_mode": {
    "name": "ipython",
    "version": 3
   },
   "file_extension": ".py",
   "mimetype": "text/x-python",
   "name": "python",
   "nbconvert_exporter": "python",
   "pygments_lexer": "ipython3",
   "version": "3.6.5"
  }
 },
 "nbformat": 4,
 "nbformat_minor": 2
}
